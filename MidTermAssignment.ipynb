{
 "cells": [
  {
   "cell_type": "code",
   "execution_count": 1,
   "metadata": {},
   "outputs": [
    {
     "name": "stdout",
     "output_type": "stream",
     "text": [
      "0.0 Time with my algorithm: Matrix length 1\n",
      "0.0 Time with built in function: Matrix length 1\n",
      "0.13376998901367188 Time with my algorithm: Matrix length 112\n",
      "0.0 Time with built in function: Matrix length 112\n",
      "0.9675419330596924 Time with my algorithm: Matrix length 223\n",
      "0.01563858985900879 Time with built in function: Matrix length 223\n",
      "3.397268533706665 Time with my algorithm: Matrix length 334\n",
      "0.061049699783325195 Time with built in function: Matrix length 334\n",
      "8.428807020187378 Time with my algorithm: Matrix length 445\n",
      "0.13432645797729492 Time with built in function: Matrix length 445\n",
      "17.521172046661377 Time with my algorithm: Matrix length 556\n",
      "0.25 Time with built in function: Matrix length 556\n",
      "31.799463033676147 Time with my algorithm: Matrix length 667\n",
      "0.5156650543212891 Time with built in function: Matrix length 667\n",
      "56.352561473846436 Time with my algorithm: Matrix length 778\n",
      "0.8332881927490234 Time with built in function: Matrix length 778\n",
      "86.23505449295044 Time with my algorithm: Matrix length 889\n",
      "1.2500064373016357 Time with built in function: Matrix length 889\n",
      "127.85232400894165 Time with my algorithm: Matrix length 1000\n",
      "2.015759229660034 Time with built in function: Matrix length 1000\n"
     ]
    }
   ],
   "source": [
    "import random\n",
    "import numpy\n",
    "import time\n",
    "\n",
    "\n",
    "def matrixmultiplication(a,b):\n",
    "    measurelengtha=len(a) #Because its a square matrix I only have to measure one length. Because both matrices must have the same length.\n",
    "    result=[]\n",
    "    for i in range (measurelengtha):\n",
    "        result.append([])\n",
    "    for i in range (measurelengtha):\n",
    "        for m in range (measurelengtha):\n",
    "            rowsum=0\n",
    "            for j in range (measurelengtha):\n",
    "                rowsum=rowsum+((a[m][j])*(b[j][i]))\n",
    "            result[m].append(rowsum)\n",
    "    return result\n",
    "    \n",
    "        \n",
    "    \n",
    "\n",
    "def creatematrices(maxlength, maxvalue): #this will create a matrix\n",
    "    matrix=[]\n",
    "    for i in range(maxlength):\n",
    "        matrixrow=[] \n",
    "        for j in range (maxlength):  #this creates a row of the matrix which is then added to the list of lists to create the final matrix. \n",
    "            matrixrow.append((random.randint(0,maxvalue)))\n",
    "        matrix.append(matrixrow)    \n",
    "    return matrix\n",
    "\n",
    "\n",
    "\n",
    "\n",
    "for i in range (1,1111,111): #1111 will not be executed because it stops when it reaches the number. therefore it will only reach n=1000\n",
    "    a=creatematrices(i,1000000000)\n",
    "    b=creatematrices(i,1000000000)\n",
    "    start=time.time()\n",
    "    matrixmultiplication(a,b)\n",
    "    end=time.time()\n",
    "    print(end-start, \"Time with my algorithm: Matrix length\" ,i)\n",
    "    start=time.time()\n",
    "    numpy.matmul(a,b)\n",
    "    end=time.time()\n",
    "    print(end-start, \"Time with built in function: Matrix length\",i)\n",
    "\n",
    "\n",
    "\n"
   ]
  }
 ],
 "metadata": {
  "kernelspec": {
   "display_name": "Python 3",
   "language": "python",
   "name": "python3"
  },
  "language_info": {
   "codemirror_mode": {
    "name": "ipython",
    "version": 3
   },
   "file_extension": ".py",
   "mimetype": "text/x-python",
   "name": "python",
   "nbconvert_exporter": "python",
   "pygments_lexer": "ipython3",
   "version": "3.12.6"
  }
 },
 "nbformat": 4,
 "nbformat_minor": 2
}
